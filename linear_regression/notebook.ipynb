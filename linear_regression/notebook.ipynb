{
  "nbformat": 4,
  "nbformat_minor": 0,
  "metadata": {
    "colab": {
      "name": "notebook.ipynb",
      "provenance": [],
      "collapsed_sections": []
    },
    "kernelspec": {
      "name": "python3",
      "display_name": "Python 3"
    }
  },
  "cells": [
    {
      "cell_type": "markdown",
      "metadata": {
        "id": "VGqYy8SJkzxu",
        "colab_type": "text"
      },
      "source": [
        "# **Linear Regression**\n",
        "\n",
        "---"
      ]
    },
    {
      "cell_type": "code",
      "metadata": {
        "id": "6UDKZhMjn5a_",
        "colab_type": "code",
        "colab": {
          "base_uri": "https://localhost:8080/",
          "height": 53
        },
        "outputId": "f22f5ea6-1f92-45ea-da8c-cb15f7fc540f"
      },
      "source": [
        "# Getting python's version\n",
        "\n",
        "import sys\n",
        "\n",
        "print(sys.version)"
      ],
      "execution_count": 1,
      "outputs": [
        {
          "output_type": "stream",
          "text": [
            "3.6.9 (default, Apr 18 2020, 01:56:04) \n",
            "[GCC 8.4.0]\n"
          ],
          "name": "stdout"
        }
      ]
    },
    {
      "cell_type": "code",
      "metadata": {
        "id": "sOp_7hmxlE-T",
        "colab_type": "code",
        "colab": {
          "base_uri": "https://localhost:8080/",
          "height": 35
        },
        "outputId": "0bf97e5e-0984-4de7-fe48-947d0a3fbf4f"
      },
      "source": [
        "# Importing numpy package\n",
        "import numpy as np\n",
        "\n",
        "print(np.__version__)"
      ],
      "execution_count": 2,
      "outputs": [
        {
          "output_type": "stream",
          "text": [
            "1.18.5\n"
          ],
          "name": "stdout"
        }
      ]
    },
    {
      "cell_type": "markdown",
      "metadata": {
        "id": "SZggcIbPojq9",
        "colab_type": "text"
      },
      "source": [
        "## **Table of Contents**\n",
        "\n",
        "\n",
        "\n",
        "1.   Mean normalization\n",
        "2.   Hypothesis\n",
        "3.   Cost function\n",
        "4.   Gradient descent *(regularized)*\n",
        "5.   Normal equation  *(regularized)*\n",
        "6.   Testing\n",
        "\n"
      ]
    },
    {
      "cell_type": "code",
      "metadata": {
        "id": "8y8DredzlqTa",
        "colab_type": "code",
        "colab": {}
      },
      "source": [
        "# Mean normalisation\n",
        "def normalize(X):\n",
        "    # Not normalizing 1's (constant term)\n",
        "    X_ones = np.ones((len(X), 1)).reshape(1, -1)\n",
        "    \n",
        "    # Calculating mean along each column(axis=0)\n",
        "    _mean = np.mean(X, axis=0)\n",
        "\n",
        "    # Calculating standard deviation along each column(axis=0)\n",
        "    _std = np.std(X, axis=0)\n",
        "\n",
        "    # Calculating Z-score\n",
        "    z_score = np.divide((X - _mean), _std)\n",
        "\n",
        "    X = np.concatenate((X_ones.T, z_score), axis=1)\n",
        "\n",
        "    return X"
      ],
      "execution_count": 3,
      "outputs": []
    },
    {
      "cell_type": "code",
      "metadata": {
        "id": "9GeTHvAHluYJ",
        "colab_type": "code",
        "colab": {}
      },
      "source": [
        "# Hypothesis\n",
        "def hypothesis(X, theta):\n",
        "    return np.matmul(X, theta)"
      ],
      "execution_count": 4,
      "outputs": []
    },
    {
      "cell_type": "code",
      "metadata": {
        "id": "EDMDbYs9lxLr",
        "colab_type": "code",
        "colab": {}
      },
      "source": [
        "# Cost function\n",
        "def compute_cost(X, y, theta):\n",
        "    # Lenght of our samples set, X\n",
        "    m = len(X)\n",
        "    h = hypothesis(X, theta)\n",
        "\n",
        "    # mean-square-error\n",
        "    sqr_error = (h - y) ** 2\n",
        "\n",
        "    # Cost\n",
        "    J = (1 / (2 * m)) * sum(sqr_error)[0]\n",
        "    return J\n",
        "\n",
        "    # We are summing the mean-square-errors by using the sum object,\n",
        "    # the sum object returns a list of single element that is our\n",
        "    # sum of mean-square-errors and taking the value from 0th index"
      ],
      "execution_count": 5,
      "outputs": []
    },
    {
      "cell_type": "code",
      "metadata": {
        "id": "fxNVMFV8l3tZ",
        "colab_type": "code",
        "colab": {}
      },
      "source": [
        "# Gradient descent\n",
        "def gradient_descent(X, y, theta, alpha, _lambda, num_of_iters):\n",
        "    # Lenght of our samples set, X\n",
        "    m = len(X)\n",
        "\n",
        "    # Initializing column vector, J_history where all elements assigned to 0,\n",
        "    # while iterating we will fill these values with those iterations cost function's value\n",
        "    J_history = np.zeros((num_of_iters, 1))\n",
        "\n",
        "    # Gradient Descent Algorithm Implementation\n",
        "    for i in range(num_of_iters):\n",
        "        h = hypothesis(X, theta)\n",
        "\n",
        "        # Regularization parameter\n",
        "        regularization_param = 1 - alpha * _lambda / m\n",
        "\n",
        "        # Regularizing all coefficients. This vectorized version of gradient descent\n",
        "        tmp_1 = theta * regularization_param - ((alpha / m) * (np.matmul((h - y).T, X)).T)\n",
        "\n",
        "        # We should NOT regularize the parameter theta_zero\n",
        "        tmp_2 = theta[0] - ((alpha / m) * (np.matmul((h - y).T, X[:, 0])).T)\n",
        "\n",
        "        theta = tmp_1\n",
        "        theta[0] = tmp_2\n",
        "\n",
        "        J_history[i] = compute_cost(X, y, theta)\n",
        "\n",
        "    return (theta, J_history)"
      ],
      "execution_count": 6,
      "outputs": []
    },
    {
      "cell_type": "code",
      "metadata": {
        "id": "GUCdJFajl8Jg",
        "colab_type": "code",
        "colab": {}
      },
      "source": [
        "# Normal equation\n",
        "def normal_equation(X, y, _lambda):\n",
        "    # Number of rows\n",
        "    n = len(X[0])\n",
        "\n",
        "    # Creating a identity matrix whose 0th row's 0th element is 0\n",
        "    L = np.identity(n)\n",
        "    L[0][0] = 0\n",
        "\n",
        "    # Regularization parameter\n",
        "    regularization_param = _lambda * L\n",
        "\n",
        "    # Matrix multiplication of X transpose and y\n",
        "    a = np.matmul(X.T, y)\n",
        "\n",
        "    # Matrix multiplication of X transpose and X\n",
        "    b = np.matmul(X.T, X)\n",
        "\n",
        "    # Adding the regularization parameter\n",
        "    c = b + regularization_param\n",
        "\n",
        "    # Taking inverse of matrix b\n",
        "    d = np.linalg.pinv(c)\n",
        "\n",
        "    # Matrix multiplication of c transpose and a\n",
        "    theta = np.matmul(d, a)\n",
        "\n",
        "    return theta"
      ],
      "execution_count": 7,
      "outputs": []
    },
    {
      "cell_type": "markdown",
      "metadata": {
        "id": "3zqSPEf_mA0p",
        "colab_type": "text"
      },
      "source": [
        "---\n",
        "\n",
        "## **Testing**"
      ]
    },
    {
      "cell_type": "code",
      "metadata": {
        "id": "kuzpPtJLm6BO",
        "colab_type": "code",
        "colab": {
          "base_uri": "https://localhost:8080/",
          "height": 71
        },
        "outputId": "ee0bf1c1-8700-4844-c616-fbdd44790068"
      },
      "source": [
        "# Using functions that we built (with Gradient Descent approach)\n",
        "\n",
        "X = np.array([[1, 1], [2.1, 5], [7, 1.9]])\n",
        "Y = np.array([[3], [1.3], [6.3]])\n",
        "theta = np.array([[0], [0], [0]])   # initializing our parameters\n",
        "\n",
        "X = normalize(X)\n",
        "\n",
        "theta, _ = gradient_descent(X, Y, theta, 0.1, 0, 1000)\n",
        "\n",
        "print(f'Coefficients: {theta[1:]}')\n",
        "print(f'Intercept: {theta[0]}')"
      ],
      "execution_count": 8,
      "outputs": [
        {
          "output_type": "stream",
          "text": [
            "Coefficients: [[ 1.66959654]\n",
            " [-1.02979484]]\n",
            "Intercept: [3.53333333]\n"
          ],
          "name": "stdout"
        }
      ]
    },
    {
      "cell_type": "code",
      "metadata": {
        "id": "-iwoyyJInN4P",
        "colab_type": "code",
        "colab": {
          "base_uri": "https://localhost:8080/",
          "height": 71
        },
        "outputId": "4299bd00-5cb6-45a7-dd14-1250dba84ba1"
      },
      "source": [
        "# Using functions that we built  (with Normal Equation approach)\n",
        "\n",
        "X = np.array([[1, 1], [2.1, 5], [7, 1.9]])\n",
        "Y = np.array([[3], [1.3], [6.3]])\n",
        "theta = np.array([[0], [0], [0]])   # initializing our parameters\n",
        "\n",
        "X = normalize(X)\n",
        "\n",
        "theta = normal_equation(X, Y, 0.1)\n",
        "\n",
        "print(f'Coefficients: {theta[1:]}')\n",
        "print(f'Intercept: {theta[0]}')"
      ],
      "execution_count": 9,
      "outputs": [
        {
          "output_type": "stream",
          "text": [
            "Coefficients: [[ 1.6191993 ]\n",
            " [-1.00311211]]\n",
            "Intercept: [3.53333333]\n"
          ],
          "name": "stdout"
        }
      ]
    },
    {
      "cell_type": "code",
      "metadata": {
        "id": "mfVEjXuJmXt7",
        "colab_type": "code",
        "colab": {
          "base_uri": "https://localhost:8080/",
          "height": 70
        },
        "outputId": "85be6ac0-da2d-4549-a76d-da9976478bb7"
      },
      "source": [
        "# Using sklearn package\n",
        "\n",
        "import sklearn\n",
        "from sklearn import linear_model\n",
        "from sklearn.preprocessing import StandardScaler\n",
        "\n",
        "print(sklearn.__version__)\n",
        "\n",
        "X = np.array([[1, 1], [2.1, 5], [7, 1.9]])\n",
        "Y = np.array([[3], [1.3], [6.3]])\n",
        "\n",
        "X = StandardScaler().fit_transform(X)\n",
        "\n",
        "model = linear_model.LinearRegression()\n",
        "model.fit(X, Y)\n",
        "\n",
        "print(f'Coefficients: {model.coef_}')\n",
        "print(f'Intercept: {model.intercept_}')"
      ],
      "execution_count": 10,
      "outputs": [
        {
          "output_type": "stream",
          "text": [
            "0.22.2.post1\n",
            "Coefficients: [[ 1.66959654 -1.02979484]]\n",
            "Intercept: [3.53333333]\n"
          ],
          "name": "stdout"
        }
      ]
    },
    {
      "cell_type": "markdown",
      "metadata": {
        "id": "zoBxTTAjnjnV",
        "colab_type": "text"
      },
      "source": [
        "---"
      ]
    }
  ]
}